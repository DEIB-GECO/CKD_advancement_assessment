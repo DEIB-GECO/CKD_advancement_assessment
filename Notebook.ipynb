{
 "cells": [
  {
   "cell_type": "markdown",
   "metadata": {},
   "source": [
    " ## README\n",
    " ### Supervised machine learning for the assessment of Chronic Kidney Disease advancement \n",
    " In this notebook, an overview of the dataset used for the study is provided. Together with it, we provide an example of the proposed computational model (an ExtraTreesClassifier) trained and tested for the different classification problems defiend in the study:\n",
    " - predicting the occurrence of renal failure and dialysis within 1 year or after (binary classification)\n",
    " - predicting the occurrence of renal failure and dialysis within the first 6 months, between 6 and 18 months, or after 18 months (3 classes)\n",
    " - predicting the occurrence of renal failure and dialysis within the first 6 months, between 6 and 14 months, between 14 and 24 months, or after 24 months (4 classes)\n",
    " \n",
    "For brevity, in this Notebook the comparison of all the evaluated algorithms is omitted, but the readers are welcome to try and compare different computational models (Decision Trees, Random Forest, Neural Networks, etc.) over different approaches (classification or regression) and different subsets of features. The details and results of the different approaches and models that have been compared in the study can be found in the original article.\n",
    " "
   ]
  },
  {
   "cell_type": "code",
   "execution_count": 2,
   "metadata": {},
   "outputs": [],
   "source": [
    "import pandas as pd"
   ]
  },
  {
   "cell_type": "code",
   "execution_count": 3,
   "metadata": {},
   "outputs": [],
   "source": [
    "PATH_TRAIN = \"./training.csv\"\n",
    "PATH_TEST = \"./test.csv\""
   ]
  },
  {
   "cell_type": "code",
   "execution_count": 4,
   "metadata": {},
   "outputs": [
    {
     "data": {
      "text/plain": [
       "(3199, 59)"
      ]
     },
     "execution_count": 4,
     "metadata": {},
     "output_type": "execute_result"
    }
   ],
   "source": [
    "#load training\n",
    "training = pd.read_csv(PATH_TRAIN)\n",
    "training.shape"
   ]
  },
  {
   "cell_type": "code",
   "execution_count": 5,
   "metadata": {
    "scrolled": true
   },
   "outputs": [
    {
     "data": {
      "text/html": [
       "<div>\n",
       "<style scoped>\n",
       "    .dataframe tbody tr th:only-of-type {\n",
       "        vertical-align: middle;\n",
       "    }\n",
       "\n",
       "    .dataframe tbody tr th {\n",
       "        vertical-align: top;\n",
       "    }\n",
       "\n",
       "    .dataframe thead th {\n",
       "        text-align: right;\n",
       "    }\n",
       "</style>\n",
       "<table border=\"1\" class=\"dataframe\">\n",
       "  <thead>\n",
       "    <tr style=\"text-align: right;\">\n",
       "      <th></th>\n",
       "      <th>last GFR</th>\n",
       "      <th>age</th>\n",
       "      <th>months until dialysis</th>\n",
       "      <th>diabetic</th>\n",
       "      <th>diabetic family</th>\n",
       "      <th>cardiopathic</th>\n",
       "      <th>cardiopathic family</th>\n",
       "      <th>hypertension episodes</th>\n",
       "      <th>hypertension episodes family</th>\n",
       "      <th>anemic</th>\n",
       "      <th>...</th>\n",
       "      <th>hemoglobin</th>\n",
       "      <th>hemoglobin delta</th>\n",
       "      <th>leukocytes average</th>\n",
       "      <th>specific gravity standard deviation</th>\n",
       "      <th>GFR standard deviation last 4 months</th>\n",
       "      <th>GFR standard deviation last year</th>\n",
       "      <th>transplanted</th>\n",
       "      <th>male</th>\n",
       "      <th>GFR delta last 4 months</th>\n",
       "      <th>GFR delta last year</th>\n",
       "    </tr>\n",
       "  </thead>\n",
       "  <tbody>\n",
       "    <tr>\n",
       "      <th>0</th>\n",
       "      <td>20.276592</td>\n",
       "      <td>78</td>\n",
       "      <td>1</td>\n",
       "      <td>0</td>\n",
       "      <td>0</td>\n",
       "      <td>0</td>\n",
       "      <td>0</td>\n",
       "      <td>1</td>\n",
       "      <td>0</td>\n",
       "      <td>1</td>\n",
       "      <td>...</td>\n",
       "      <td>11.4</td>\n",
       "      <td>-3.652381</td>\n",
       "      <td>38.715882</td>\n",
       "      <td>0.001327</td>\n",
       "      <td>1.941938</td>\n",
       "      <td>5.525198</td>\n",
       "      <td>0</td>\n",
       "      <td>0</td>\n",
       "      <td>-3.126396</td>\n",
       "      <td>13.813144</td>\n",
       "    </tr>\n",
       "    <tr>\n",
       "      <th>1</th>\n",
       "      <td>30.840751</td>\n",
       "      <td>69</td>\n",
       "      <td>1</td>\n",
       "      <td>0</td>\n",
       "      <td>0</td>\n",
       "      <td>1</td>\n",
       "      <td>0</td>\n",
       "      <td>1</td>\n",
       "      <td>0</td>\n",
       "      <td>0</td>\n",
       "      <td>...</td>\n",
       "      <td>12.2</td>\n",
       "      <td>-1.085714</td>\n",
       "      <td>79.450000</td>\n",
       "      <td>0.002055</td>\n",
       "      <td>3.808660</td>\n",
       "      <td>5.525198</td>\n",
       "      <td>0</td>\n",
       "      <td>1</td>\n",
       "      <td>-4.235526</td>\n",
       "      <td>3.248984</td>\n",
       "    </tr>\n",
       "    <tr>\n",
       "      <th>2</th>\n",
       "      <td>16.648019</td>\n",
       "      <td>69</td>\n",
       "      <td>1</td>\n",
       "      <td>0</td>\n",
       "      <td>0</td>\n",
       "      <td>0</td>\n",
       "      <td>0</td>\n",
       "      <td>1</td>\n",
       "      <td>0</td>\n",
       "      <td>0</td>\n",
       "      <td>...</td>\n",
       "      <td>12.4</td>\n",
       "      <td>-0.530769</td>\n",
       "      <td>7.478462</td>\n",
       "      <td>0.001090</td>\n",
       "      <td>0.398267</td>\n",
       "      <td>2.871713</td>\n",
       "      <td>0</td>\n",
       "      <td>1</td>\n",
       "      <td>1.223860</td>\n",
       "      <td>5.238569</td>\n",
       "    </tr>\n",
       "    <tr>\n",
       "      <th>3</th>\n",
       "      <td>28.275169</td>\n",
       "      <td>78</td>\n",
       "      <td>6</td>\n",
       "      <td>0</td>\n",
       "      <td>0</td>\n",
       "      <td>0</td>\n",
       "      <td>0</td>\n",
       "      <td>1</td>\n",
       "      <td>0</td>\n",
       "      <td>0</td>\n",
       "      <td>...</td>\n",
       "      <td>10.1</td>\n",
       "      <td>0.000000</td>\n",
       "      <td>87.670000</td>\n",
       "      <td>0.000943</td>\n",
       "      <td>7.043018</td>\n",
       "      <td>1.787367</td>\n",
       "      <td>1</td>\n",
       "      <td>1</td>\n",
       "      <td>-7.695249</td>\n",
       "      <td>-3.675169</td>\n",
       "    </tr>\n",
       "    <tr>\n",
       "      <th>4</th>\n",
       "      <td>21.670000</td>\n",
       "      <td>64</td>\n",
       "      <td>19</td>\n",
       "      <td>0</td>\n",
       "      <td>0</td>\n",
       "      <td>0</td>\n",
       "      <td>0</td>\n",
       "      <td>1</td>\n",
       "      <td>0</td>\n",
       "      <td>1</td>\n",
       "      <td>...</td>\n",
       "      <td>11.8</td>\n",
       "      <td>-0.368750</td>\n",
       "      <td>22.865000</td>\n",
       "      <td>0.001110</td>\n",
       "      <td>10.103413</td>\n",
       "      <td>11.871167</td>\n",
       "      <td>1</td>\n",
       "      <td>0</td>\n",
       "      <td>15.610855</td>\n",
       "      <td>14.912619</td>\n",
       "    </tr>\n",
       "  </tbody>\n",
       "</table>\n",
       "<p>5 rows × 59 columns</p>\n",
       "</div>"
      ],
      "text/plain": [
       "    last GFR  age  months until dialysis  diabetic  diabetic family  \\\n",
       "0  20.276592   78                      1         0                0   \n",
       "1  30.840751   69                      1         0                0   \n",
       "2  16.648019   69                      1         0                0   \n",
       "3  28.275169   78                      6         0                0   \n",
       "4  21.670000   64                     19         0                0   \n",
       "\n",
       "   cardiopathic  cardiopathic family  hypertension episodes  \\\n",
       "0             0                    0                      1   \n",
       "1             1                    0                      1   \n",
       "2             0                    0                      1   \n",
       "3             0                    0                      1   \n",
       "4             0                    0                      1   \n",
       "\n",
       "   hypertension episodes family  anemic  ...  hemoglobin  hemoglobin delta  \\\n",
       "0                             0       1  ...        11.4         -3.652381   \n",
       "1                             0       0  ...        12.2         -1.085714   \n",
       "2                             0       0  ...        12.4         -0.530769   \n",
       "3                             0       0  ...        10.1          0.000000   \n",
       "4                             0       1  ...        11.8         -0.368750   \n",
       "\n",
       "   leukocytes average  specific gravity standard deviation  \\\n",
       "0           38.715882                             0.001327   \n",
       "1           79.450000                             0.002055   \n",
       "2            7.478462                             0.001090   \n",
       "3           87.670000                             0.000943   \n",
       "4           22.865000                             0.001110   \n",
       "\n",
       "   GFR standard deviation last 4 months  GFR standard deviation last year  \\\n",
       "0                              1.941938                          5.525198   \n",
       "1                              3.808660                          5.525198   \n",
       "2                              0.398267                          2.871713   \n",
       "3                              7.043018                          1.787367   \n",
       "4                             10.103413                         11.871167   \n",
       "\n",
       "   transplanted  male  GFR delta last 4 months  GFR delta last year  \n",
       "0             0     0                -3.126396            13.813144  \n",
       "1             0     1                -4.235526             3.248984  \n",
       "2             0     1                 1.223860             5.238569  \n",
       "3             1     1                -7.695249            -3.675169  \n",
       "4             1     0                15.610855            14.912619  \n",
       "\n",
       "[5 rows x 59 columns]"
      ]
     },
     "execution_count": 5,
     "metadata": {},
     "output_type": "execute_result"
    }
   ],
   "source": [
    "#training overview\n",
    "training.head()"
   ]
  },
  {
   "cell_type": "code",
   "execution_count": 6,
   "metadata": {},
   "outputs": [
    {
     "data": {
      "text/plain": [
       "count    3199.000000\n",
       "mean       13.607377\n",
       "std        15.897959\n",
       "min         0.000000\n",
       "25%         2.000000\n",
       "50%         8.000000\n",
       "75%        19.000000\n",
       "max       116.000000\n",
       "Name: months until dialysis, dtype: float64"
      ]
     },
     "execution_count": 6,
     "metadata": {},
     "output_type": "execute_result"
    }
   ],
   "source": [
    "#continuous target variable 'months until dialysis' in the training set\n",
    "training['months until dialysis'].describe()"
   ]
  },
  {
   "cell_type": "code",
   "execution_count": 7,
   "metadata": {},
   "outputs": [
    {
     "data": {
      "text/plain": [
       "(1067, 59)"
      ]
     },
     "execution_count": 7,
     "metadata": {},
     "output_type": "execute_result"
    }
   ],
   "source": [
    "#load test\n",
    "test = pd.read_csv(PATH_TEST)\n",
    "test.shape"
   ]
  },
  {
   "cell_type": "code",
   "execution_count": 8,
   "metadata": {},
   "outputs": [
    {
     "data": {
      "text/html": [
       "<div>\n",
       "<style scoped>\n",
       "    .dataframe tbody tr th:only-of-type {\n",
       "        vertical-align: middle;\n",
       "    }\n",
       "\n",
       "    .dataframe tbody tr th {\n",
       "        vertical-align: top;\n",
       "    }\n",
       "\n",
       "    .dataframe thead th {\n",
       "        text-align: right;\n",
       "    }\n",
       "</style>\n",
       "<table border=\"1\" class=\"dataframe\">\n",
       "  <thead>\n",
       "    <tr style=\"text-align: right;\">\n",
       "      <th></th>\n",
       "      <th>last GFR</th>\n",
       "      <th>age</th>\n",
       "      <th>months until dialysis</th>\n",
       "      <th>diabetic</th>\n",
       "      <th>diabetic family</th>\n",
       "      <th>cardiopathic</th>\n",
       "      <th>cardiopathic family</th>\n",
       "      <th>hypertension episodes</th>\n",
       "      <th>hypertension episodes family</th>\n",
       "      <th>anemic</th>\n",
       "      <th>...</th>\n",
       "      <th>hemoglobin</th>\n",
       "      <th>hemoglobin delta</th>\n",
       "      <th>leukocytes average</th>\n",
       "      <th>specific gravity standard deviation</th>\n",
       "      <th>GFR standard deviation last 4 months</th>\n",
       "      <th>GFR standard deviation last year</th>\n",
       "      <th>transplanted</th>\n",
       "      <th>male</th>\n",
       "      <th>GFR delta last 4 months</th>\n",
       "      <th>GFR delta last year</th>\n",
       "    </tr>\n",
       "  </thead>\n",
       "  <tbody>\n",
       "    <tr>\n",
       "      <th>0</th>\n",
       "      <td>17.855162</td>\n",
       "      <td>80</td>\n",
       "      <td>7</td>\n",
       "      <td>1</td>\n",
       "      <td>0</td>\n",
       "      <td>1</td>\n",
       "      <td>0</td>\n",
       "      <td>1</td>\n",
       "      <td>0</td>\n",
       "      <td>0</td>\n",
       "      <td>...</td>\n",
       "      <td>10.4</td>\n",
       "      <td>0.172727</td>\n",
       "      <td>9.666364</td>\n",
       "      <td>0.001633</td>\n",
       "      <td>0.000000</td>\n",
       "      <td>6.718452</td>\n",
       "      <td>0</td>\n",
       "      <td>0</td>\n",
       "      <td>4.071103</td>\n",
       "      <td>17.062928</td>\n",
       "    </tr>\n",
       "    <tr>\n",
       "      <th>1</th>\n",
       "      <td>28.154962</td>\n",
       "      <td>75</td>\n",
       "      <td>7</td>\n",
       "      <td>0</td>\n",
       "      <td>0</td>\n",
       "      <td>0</td>\n",
       "      <td>1</td>\n",
       "      <td>1</td>\n",
       "      <td>1</td>\n",
       "      <td>0</td>\n",
       "      <td>...</td>\n",
       "      <td>12.2</td>\n",
       "      <td>0.180000</td>\n",
       "      <td>8.266000</td>\n",
       "      <td>0.000000</td>\n",
       "      <td>4.222687</td>\n",
       "      <td>5.525198</td>\n",
       "      <td>0</td>\n",
       "      <td>0</td>\n",
       "      <td>-2.175169</td>\n",
       "      <td>5.934773</td>\n",
       "    </tr>\n",
       "    <tr>\n",
       "      <th>2</th>\n",
       "      <td>25.560000</td>\n",
       "      <td>60</td>\n",
       "      <td>63</td>\n",
       "      <td>0</td>\n",
       "      <td>0</td>\n",
       "      <td>0</td>\n",
       "      <td>0</td>\n",
       "      <td>1</td>\n",
       "      <td>0</td>\n",
       "      <td>1</td>\n",
       "      <td>...</td>\n",
       "      <td>11.3</td>\n",
       "      <td>-0.342857</td>\n",
       "      <td>13.890000</td>\n",
       "      <td>0.001309</td>\n",
       "      <td>11.935143</td>\n",
       "      <td>11.254483</td>\n",
       "      <td>1</td>\n",
       "      <td>0</td>\n",
       "      <td>15.800630</td>\n",
       "      <td>10.931382</td>\n",
       "    </tr>\n",
       "    <tr>\n",
       "      <th>3</th>\n",
       "      <td>17.777442</td>\n",
       "      <td>77</td>\n",
       "      <td>0</td>\n",
       "      <td>0</td>\n",
       "      <td>0</td>\n",
       "      <td>1</td>\n",
       "      <td>0</td>\n",
       "      <td>1</td>\n",
       "      <td>0</td>\n",
       "      <td>1</td>\n",
       "      <td>...</td>\n",
       "      <td>10.1</td>\n",
       "      <td>0.050000</td>\n",
       "      <td>14.450000</td>\n",
       "      <td>0.001345</td>\n",
       "      <td>3.808660</td>\n",
       "      <td>5.525198</td>\n",
       "      <td>0</td>\n",
       "      <td>1</td>\n",
       "      <td>8.827783</td>\n",
       "      <td>16.312293</td>\n",
       "    </tr>\n",
       "    <tr>\n",
       "      <th>4</th>\n",
       "      <td>23.180000</td>\n",
       "      <td>26</td>\n",
       "      <td>27</td>\n",
       "      <td>0</td>\n",
       "      <td>0</td>\n",
       "      <td>0</td>\n",
       "      <td>0</td>\n",
       "      <td>1</td>\n",
       "      <td>0</td>\n",
       "      <td>0</td>\n",
       "      <td>...</td>\n",
       "      <td>13.8</td>\n",
       "      <td>0.600000</td>\n",
       "      <td>28.136667</td>\n",
       "      <td>0.000000</td>\n",
       "      <td>4.946360</td>\n",
       "      <td>8.260643</td>\n",
       "      <td>0</td>\n",
       "      <td>1</td>\n",
       "      <td>-0.253640</td>\n",
       "      <td>16.530643</td>\n",
       "    </tr>\n",
       "  </tbody>\n",
       "</table>\n",
       "<p>5 rows × 59 columns</p>\n",
       "</div>"
      ],
      "text/plain": [
       "    last GFR  age  months until dialysis  diabetic  diabetic family  \\\n",
       "0  17.855162   80                      7         1                0   \n",
       "1  28.154962   75                      7         0                0   \n",
       "2  25.560000   60                     63         0                0   \n",
       "3  17.777442   77                      0         0                0   \n",
       "4  23.180000   26                     27         0                0   \n",
       "\n",
       "   cardiopathic  cardiopathic family  hypertension episodes  \\\n",
       "0             1                    0                      1   \n",
       "1             0                    1                      1   \n",
       "2             0                    0                      1   \n",
       "3             1                    0                      1   \n",
       "4             0                    0                      1   \n",
       "\n",
       "   hypertension episodes family  anemic  ...  hemoglobin  hemoglobin delta  \\\n",
       "0                             0       0  ...        10.4          0.172727   \n",
       "1                             1       0  ...        12.2          0.180000   \n",
       "2                             0       1  ...        11.3         -0.342857   \n",
       "3                             0       1  ...        10.1          0.050000   \n",
       "4                             0       0  ...        13.8          0.600000   \n",
       "\n",
       "   leukocytes average  specific gravity standard deviation  \\\n",
       "0            9.666364                             0.001633   \n",
       "1            8.266000                             0.000000   \n",
       "2           13.890000                             0.001309   \n",
       "3           14.450000                             0.001345   \n",
       "4           28.136667                             0.000000   \n",
       "\n",
       "   GFR standard deviation last 4 months  GFR standard deviation last year  \\\n",
       "0                              0.000000                          6.718452   \n",
       "1                              4.222687                          5.525198   \n",
       "2                             11.935143                         11.254483   \n",
       "3                              3.808660                          5.525198   \n",
       "4                              4.946360                          8.260643   \n",
       "\n",
       "   transplanted  male  GFR delta last 4 months  GFR delta last year  \n",
       "0             0     0                 4.071103            17.062928  \n",
       "1             0     0                -2.175169             5.934773  \n",
       "2             1     0                15.800630            10.931382  \n",
       "3             0     1                 8.827783            16.312293  \n",
       "4             0     1                -0.253640            16.530643  \n",
       "\n",
       "[5 rows x 59 columns]"
      ]
     },
     "execution_count": 8,
     "metadata": {},
     "output_type": "execute_result"
    }
   ],
   "source": [
    "#test overview\n",
    "test.head()"
   ]
  },
  {
   "cell_type": "code",
   "execution_count": 9,
   "metadata": {},
   "outputs": [
    {
     "data": {
      "text/plain": [
       "count    1067.000000\n",
       "mean       13.827554\n",
       "std        16.666981\n",
       "min         0.000000\n",
       "25%         2.000000\n",
       "50%         8.000000\n",
       "75%        19.000000\n",
       "max       120.000000\n",
       "Name: months until dialysis, dtype: float64"
      ]
     },
     "execution_count": 9,
     "metadata": {},
     "output_type": "execute_result"
    }
   ],
   "source": [
    "#continuous target variable 'months until dialysis' in the test set\n",
    "test['months until dialysis'].describe()"
   ]
  },
  {
   "cell_type": "code",
   "execution_count": 10,
   "metadata": {},
   "outputs": [],
   "source": [
    "#define the selected 27 features\n",
    "SELECTED_27_FEATURES = [\"age\", \"anemic\", \"aspartate aminotransferase\", \"cardiopathic\", \"chlorine\",\n",
    "                        \"creatinine\", \"creatinine delta\",\"diabetic\", \"erythrocytes\", \"erythrocytes delta\", \n",
    "                        \"GFR delta last 4 months\", \"GFR delta last year\", \"GFR standard deviation last 4 months\",\n",
    "                        \"GFR standard deviation last year\", \"hematocrit\", \"hemoglobin\", \"hypertension episodes\",\n",
    "                        \"last GFR\", \"male\", \"mean corpuscular hemoglobin\", \"mean corpuscular volume\", \"potassium\",\n",
    "                        \"sodium\", \"specific gravity standard deviation\", \"urate\", \"urea\", \"urea delta\"]"
   ]
  },
  {
   "cell_type": "code",
   "execution_count": 11,
   "metadata": {},
   "outputs": [
    {
     "data": {
      "text/plain": [
       "(3199, 27)"
      ]
     },
     "execution_count": 11,
     "metadata": {},
     "output_type": "execute_result"
    }
   ],
   "source": [
    "training[SELECTED_27_FEATURES].shape"
   ]
  },
  {
   "cell_type": "code",
   "execution_count": 12,
   "metadata": {},
   "outputs": [
    {
     "data": {
      "text/plain": [
       "(1067, 27)"
      ]
     },
     "execution_count": 12,
     "metadata": {},
     "output_type": "execute_result"
    }
   ],
   "source": [
    "test[SELECTED_27_FEATURES].shape"
   ]
  },
  {
   "cell_type": "markdown",
   "metadata": {},
   "source": [
    "### Training and testing of ExtraTreesClassifier for different number of classes (2, 3 and 4)"
   ]
  },
  {
   "cell_type": "code",
   "execution_count": 13,
   "metadata": {},
   "outputs": [],
   "source": [
    "#import needed libraries\n",
    "from sklearn.ensemble import ExtraTreesClassifier\n",
    "import numpy as np\n",
    "from sklearn.preprocessing import StandardScaler \n",
    "from sklearn.metrics import mean_squared_error, r2_score\n",
    "from sklearn.metrics import accuracy_score, confusion_matrix, precision_score, recall_score, f1_score\n",
    "import matplotlib.pyplot as plt\n",
    "from joblib import load"
   ]
  },
  {
   "cell_type": "markdown",
   "metadata": {},
   "source": [
    "#### Define some useful functions:"
   ]
  },
  {
   "cell_type": "code",
   "execution_count": 14,
   "metadata": {},
   "outputs": [],
   "source": [
    "def compute_precision(y_true, y_pred):\n",
    "\n",
    "    macro_precision = precision_score(y_true, y_pred, average='macro')  \n",
    "\n",
    "    micro_precision = precision_score(y_true, y_pred, average='micro')  \n",
    "\n",
    "    weighted_precision = precision_score(y_true, y_pred, average='weighted')\n",
    "\n",
    "    print(\" macro precision: \" + str(macro_precision))\n",
    "    print(\" micro precision: \" + str(micro_precision))\n",
    "    print(\" weighted precision: \" + str(weighted_precision))\n",
    "\n",
    "    return"
   ]
  },
  {
   "cell_type": "code",
   "execution_count": 15,
   "metadata": {},
   "outputs": [],
   "source": [
    "def compute_recall(y_true, y_pred):\n",
    "\n",
    "    macro_recall = recall_score(y_true, y_pred, average='macro')  \n",
    "\n",
    "    micro_recall = recall_score(y_true, y_pred, average='micro')  \n",
    "\n",
    "    weighted_recall = recall_score(y_true, y_pred, average='weighted')\n",
    "\n",
    "    print(\" macro recall: \" + str(macro_recall))\n",
    "    print(\" micro recall: \" + str(micro_recall))\n",
    "    print(\" weighted recall: \" + str(weighted_recall))\n",
    "\n",
    "    return"
   ]
  },
  {
   "cell_type": "code",
   "execution_count": 16,
   "metadata": {},
   "outputs": [],
   "source": [
    "def compute_f1_score(y_true, y_pred):\n",
    "\n",
    "    macro_f1_score = f1_score(y_true, y_pred, average='macro')  \n",
    "\n",
    "    micro_f1_score = f1_score(y_true, y_pred, average='micro')  \n",
    "\n",
    "    weighted_f1_score = f1_score(y_true, y_pred, average='weighted')\n",
    "\n",
    "    print(\" macro f1_score: \" + str(macro_f1_score))\n",
    "    print(\" micro f1_score: \" + str(micro_f1_score))\n",
    "    print(\" weighted f1_score: \" + str(weighted_f1_score))\n",
    "\n",
    "    return"
   ]
  },
  {
   "cell_type": "code",
   "execution_count": 17,
   "metadata": {},
   "outputs": [],
   "source": [
    "def plot_confusion_matrix(y_true, y_pred, classes,normalize=False, title=None,cmap=plt.cm.Blues):\n",
    "    \"\"\"\n",
    "    This function prints and plots the confusion matrix.\n",
    "    Normalization can be applied by setting `normalize=True`.\n",
    "    \"\"\"\n",
    "    if not title:\n",
    "        if normalize:\n",
    "            title = 'Normalized confusion matrix'\n",
    "        else:\n",
    "            title = 'Confusion matrix, without normalization'\n",
    "\n",
    "    # Compute confusion matrix\n",
    "    cm = confusion_matrix(y_true, y_pred)\n",
    "    # Only use the labels that appear in the data\n",
    "    classes = np.asarray(classes)\n",
    "    if normalize:\n",
    "        cm = cm.astype('float') / cm.sum(axis=1)[:, np.newaxis]\n",
    "     \n",
    "\n",
    "    fig, ax = plt.subplots()\n",
    "    im = ax.imshow(cm, interpolation='nearest', cmap=cmap)\n",
    "    ax.figure.colorbar(im, ax=ax)\n",
    "    # We want to show all ticks...\n",
    "    ax.set(xticks=np.arange(cm.shape[1]),\n",
    "           yticks=np.arange(cm.shape[0]),\n",
    "           # ... and label them with the respective list entries\n",
    "           xticklabels=classes, yticklabels=classes,\n",
    "           title=title,\n",
    "           ylabel='True label',\n",
    "           xlabel='Predicted label')\n",
    "\n",
    "    # Rotate the tick labels and set their alignment.\n",
    "    plt.setp(ax.get_xticklabels(), rotation=45, ha=\"right\",\n",
    "             rotation_mode=\"anchor\")\n",
    "\n",
    "    # Loop over data dimensions and create text annotations.\n",
    "    fmt = '.2f' if normalize else 'd'\n",
    "    thresh = cm.max() / 2.\n",
    "    for i in range(cm.shape[0]):\n",
    "        for j in range(cm.shape[1]):\n",
    "            ax.text(j, i, format(cm[i, j], fmt),\n",
    "                    ha=\"center\", va=\"center\",\n",
    "                    color=\"white\" if cm[i, j] > thresh else \"black\")\n",
    "    fig.tight_layout()\n",
    "    return ax"
   ]
  },
  {
   "cell_type": "markdown",
   "metadata": {},
   "source": [
    "## Binary classification - predicting dialysis within 1 year"
   ]
  },
  {
   "cell_type": "code",
   "execution_count": 18,
   "metadata": {},
   "outputs": [],
   "source": [
    "#define the corresponding class depending on the variable \"months until dialysis\"\n",
    "# 1st class if \"months until dialysis\" < 12,\n",
    "# 2nd class otherwise\n",
    "training['class'] = training.apply(lambda x : (1 if x[\"months until dialysis\"] < 12   else  2),axis=1)"
   ]
  },
  {
   "cell_type": "code",
   "execution_count": 19,
   "metadata": {},
   "outputs": [],
   "source": [
    "#compute the corresponding classes also for the test set\n",
    "test['class'] = test.apply(lambda x : (1 if x[\"months until dialysis\"] < 12   else  2),axis=1)"
   ]
  },
  {
   "cell_type": "code",
   "execution_count": 20,
   "metadata": {},
   "outputs": [
    {
     "name": "stdout",
     "output_type": "stream",
     "text": [
      "Train features shape: (3199, 27)\n"
     ]
    }
   ],
   "source": [
    "#train only on the 27 selected features\n",
    "Xtrain = training[SELECTED_27_FEATURES]\n",
    "print(\"Train features shape: \" + str(Xtrain.shape))\n",
    "Ytrain = training['class']"
   ]
  },
  {
   "cell_type": "code",
   "execution_count": 21,
   "metadata": {},
   "outputs": [
    {
     "name": "stdout",
     "output_type": "stream",
     "text": [
      "Test features shape: (1067, 27)\n"
     ]
    }
   ],
   "source": [
    "Xtest = test[SELECTED_27_FEATURES]\n",
    "print(\"Test features shape: \" + str(Xtest.shape))\n",
    "Ytest = test['class']"
   ]
  },
  {
   "cell_type": "markdown",
   "metadata": {},
   "source": [
    "#### To train a new binary classifier run the cell below:"
   ]
  },
  {
   "cell_type": "code",
   "execution_count": 22,
   "metadata": {},
   "outputs": [
    {
     "data": {
      "text/plain": [
       "ExtraTreesClassifier(bootstrap=False, ccp_alpha=0.0, class_weight=None,\n",
       "                     criterion='gini', max_depth=None, max_features='auto',\n",
       "                     max_leaf_nodes=None, max_samples=None,\n",
       "                     min_impurity_decrease=0.0, min_impurity_split=None,\n",
       "                     min_samples_leaf=1, min_samples_split=2,\n",
       "                     min_weight_fraction_leaf=0.0, n_estimators=180,\n",
       "                     n_jobs=None, oob_score=False, random_state=None, verbose=0,\n",
       "                     warm_start=False)"
      ]
     },
     "execution_count": 22,
     "metadata": {},
     "output_type": "execute_result"
    }
   ],
   "source": [
    "#define an Etratrees classifier with a given number of estimators (i.e. 180). \n",
    "#The number of estimators is an hyperparameter and can be tuned with crossvalidation on the training set\n",
    "clf_binary = ExtraTreesClassifier(n_estimators=180)\n",
    "#train a new classifier\n",
    "clf_binary.fit(Xtrain,Ytrain)"
   ]
  },
  {
   "cell_type": "markdown",
   "metadata": {},
   "source": [
    "#### To load a pre-trained model run the cell below instead:"
   ]
  },
  {
   "cell_type": "code",
   "execution_count": 27,
   "metadata": {},
   "outputs": [],
   "source": [
    "#load already trained model\n",
    "clf_binary = load('clf_binary.joblib') "
   ]
  },
  {
   "cell_type": "code",
   "execution_count": 28,
   "metadata": {},
   "outputs": [],
   "source": [
    "# Make predictions for the test using the trained classifier\n",
    "y_pred_test = clf_binary.predict(Xtest)"
   ]
  },
  {
   "cell_type": "code",
   "execution_count": 29,
   "metadata": {},
   "outputs": [
    {
     "name": "stdout",
     "output_type": "stream",
     "text": [
      "0.936269915651359\n"
     ]
    }
   ],
   "source": [
    "#compute accuracy over the test\n",
    "test_accuracy = accuracy_score(Ytest,y_pred_test)\n",
    "print(test_accuracy)"
   ]
  },
  {
   "cell_type": "code",
   "execution_count": 30,
   "metadata": {},
   "outputs": [
    {
     "name": "stdout",
     "output_type": "stream",
     "text": [
      " macro precision: 0.9353724362604149\n",
      " micro precision: 0.936269915651359\n",
      " weighted precision: 0.9361901397054971\n",
      "\n",
      " macro recall: 0.931957638372076\n",
      " micro recall: 0.936269915651359\n",
      " weighted recall: 0.936269915651359\n",
      "\n",
      " macro f1_score: 0.9335728358711812\n",
      " micro f1_score: 0.936269915651359\n",
      " weighted f1_score: 0.9361444700801879\n"
     ]
    }
   ],
   "source": [
    "#compute precision over the test\n",
    "compute_precision(Ytest,y_pred_test)\n",
    "print()\n",
    "#compute recall over the test\n",
    "compute_recall(Ytest,y_pred_test)\n",
    "print()\n",
    "#compute F1 over the test\n",
    "compute_f1_score(Ytest,y_pred_test)"
   ]
  },
  {
   "cell_type": "code",
   "execution_count": 31,
   "metadata": {
    "scrolled": true
   },
   "outputs": [
    {
     "data": {
      "text/plain": [
       "<matplotlib.axes._subplots.AxesSubplot at 0x271bc9b5ac8>"
      ]
     },
     "execution_count": 31,
     "metadata": {},
     "output_type": "execute_result"
    },
    {
     "data": {
      "image/png": "[encoded data removed]",
      "text/plain": [
       "<Figure size 432x288 with 2 Axes>"
      ]
     },
     "metadata": {
      "needs_background": "light"
     },
     "output_type": "display_data"
    },
    {
     "data": {
      "image/png": "[encoded data removed]",
      "text/plain": [
       "<Figure size 432x288 with 2 Axes>"
      ]
     },
     "metadata": {
      "needs_background": "light"
     },
     "output_type": "display_data"
    }
   ],
   "source": [
    "#compute Confusion Matrix\n",
    "np.set_printoptions(precision=2)\n",
    "plot_confusion_matrix(Ytest, y_pred_test, classes=[1,2],title=' Overall Validation Confusion matrix')\n",
    "#compute Confusion Matrix normalized        \n",
    "plot_confusion_matrix(Ytest, y_pred_test, classes=[1,2], normalize = True,title= ' Overall Validation Confusion matrix - normalized')"
   ]
  },
  {
   "cell_type": "markdown",
   "metadata": {},
   "source": [
    "#### Comparing the performances using a Decision Tree"
   ]
  },
  {
   "cell_type": "code",
   "execution_count": 32,
   "metadata": {},
   "outputs": [],
   "source": [
    "from sklearn import tree"
   ]
  },
  {
   "cell_type": "code",
   "execution_count": 33,
   "metadata": {
    "scrolled": false
   },
   "outputs": [
    {
     "data": {
      "text/plain": [
       "DecisionTreeClassifier(ccp_alpha=0.0, class_weight=None, criterion='gini',\n",
       "                       max_depth=15, max_features=None, max_leaf_nodes=None,\n",
       "                       min_impurity_decrease=0.0, min_impurity_split=None,\n",
       "                       min_samples_leaf=1, min_samples_split=2,\n",
       "                       min_weight_fraction_leaf=0.0, presort='deprecated',\n",
       "                       random_state=None, splitter='best')"
      ]
     },
     "execution_count": 33,
     "metadata": {},
     "output_type": "execute_result"
    }
   ],
   "source": [
    "clf_binary = tree.DecisionTreeClassifier(max_depth=15)\n",
    "clf_binary.fit(Xtrain,Ytrain)"
   ]
  },
  {
   "cell_type": "code",
   "execution_count": 34,
   "metadata": {},
   "outputs": [],
   "source": [
    "# Make predictions for the test using the trained classifier\n",
    "y_pred_test = clf_binary.predict(Xtest)"
   ]
  },
  {
   "cell_type": "code",
   "execution_count": 35,
   "metadata": {},
   "outputs": [
    {
     "name": "stdout",
     "output_type": "stream",
     "text": [
      "0.8331771321462043\n"
     ]
    }
   ],
   "source": [
    "#compute accuracy over the test\n",
    "test_accuracy = accuracy_score(Ytest,y_pred_test)\n",
    "print(test_accuracy)"
   ]
  },
  {
   "cell_type": "code",
   "execution_count": 36,
   "metadata": {
    "scrolled": false
   },
   "outputs": [
    {
     "name": "stdout",
     "output_type": "stream",
     "text": [
      " macro precision: 0.8262184327468478\n",
      " micro precision: 0.8331771321462043\n",
      " weighted precision: 0.8342779433506223\n",
      "\n",
      " macro recall: 0.8294006916779757\n",
      " micro recall: 0.8331771321462043\n",
      " weighted recall: 0.8331771321462043\n",
      "\n",
      " macro f1_score: 0.8276546086779769\n",
      " micro f1_score: 0.8331771321462043\n",
      " weighted f1_score: 0.8335819244423047\n"
     ]
    }
   ],
   "source": [
    "#compute precision over the test\n",
    "compute_precision(Ytest,y_pred_test)\n",
    "print()\n",
    "#compute recall over the test\n",
    "compute_recall(Ytest,y_pred_test)\n",
    "print()\n",
    "#compute F1 over the test\n",
    "compute_f1_score(Ytest,y_pred_test)"
   ]
  },
  {
   "cell_type": "code",
   "execution_count": 37,
   "metadata": {
    "scrolled": true
   },
   "outputs": [
    {
     "data": {
      "text/plain": [
       "<matplotlib.axes._subplots.AxesSubplot at 0x271bcab9988>"
      ]
     },
     "execution_count": 37,
     "metadata": {},
     "output_type": "execute_result"
    },
    {
     "data": {
      "image/png": "[encoded data removed]",
      "text/plain": [
       "<Figure size 432x288 with 2 Axes>"
      ]
     },
     "metadata": {
      "needs_background": "light"
     },
     "output_type": "display_data"
    },
    {
     "data": {
      "image/png": "[encoded data removed]",
      "text/plain": [
       "<Figure size 432x288 with 2 Axes>"
      ]
     },
     "metadata": {
      "needs_background": "light"
     },
     "output_type": "display_data"
    }
   ],
   "source": [
    "#compute Confusion Matrix\n",
    "np.set_printoptions(precision=2)\n",
    "plot_confusion_matrix(Ytest, y_pred_test, classes=[1,2],title=' Overall Validation Confusion matrix')\n",
    "#compute Confusion Matrix normalized        \n",
    "plot_confusion_matrix(Ytest, y_pred_test, classes=[1,2], normalize = True,title= ' Overall Validation Confusion matrix - normalized')"
   ]
  },
  {
   "cell_type": "markdown",
   "metadata": {},
   "source": [
    "#### Comparing the performances using Random Forest"
   ]
  },
  {
   "cell_type": "code",
   "execution_count": 38,
   "metadata": {},
   "outputs": [],
   "source": [
    "from sklearn.ensemble import RandomForestClassifier\n"
   ]
  },
  {
   "cell_type": "code",
   "execution_count": 40,
   "metadata": {
    "scrolled": true
   },
   "outputs": [
    {
     "name": "stdout",
     "output_type": "stream",
     "text": [
      "test_accuracy: 0.922211808809747\n"
     ]
    }
   ],
   "source": [
    "clf_binary = RandomForestClassifier(n_estimators=250)\n",
    "clf_binary.fit(Xtrain,Ytrain)\n",
    "# Make predictions for the test using the trained classifier\n",
    "y_pred_test = clf_binary.predict(Xtest)\n",
    "#compute accuracy over the test\n",
    "test_accuracy = accuracy_score(Ytest,y_pred_test)\n",
    "print(\"test_accuracy: \" + str(test_accuracy))"
   ]
  },
  {
   "cell_type": "code",
   "execution_count": 41,
   "metadata": {},
   "outputs": [],
   "source": [
    "# Make predictions for the test using the trained classifier\n",
    "y_pred_test = clf_binary.predict(Xtest)"
   ]
  },
  {
   "cell_type": "code",
   "execution_count": 42,
   "metadata": {},
   "outputs": [
    {
     "name": "stdout",
     "output_type": "stream",
     "text": [
      "0.922211808809747\n"
     ]
    }
   ],
   "source": [
    "#compute accuracy over the test\n",
    "test_accuracy = accuracy_score(Ytest,y_pred_test)\n",
    "print(test_accuracy)"
   ]
  },
  {
   "cell_type": "code",
   "execution_count": 43,
   "metadata": {},
   "outputs": [
    {
     "name": "stdout",
     "output_type": "stream",
     "text": [
      " macro precision: 0.9243126472898664\n",
      " micro precision: 0.922211808809747\n",
      " weighted precision: 0.9226751115924348\n",
      "\n",
      " macro recall: 0.913808387689883\n",
      " micro recall: 0.922211808809747\n",
      " weighted recall: 0.922211808809747\n",
      "\n",
      " macro f1_score: 0.9182815324438769\n",
      " micro f1_score: 0.922211808809747\n",
      " weighted f1_score: 0.9217247232772245\n"
     ]
    }
   ],
   "source": [
    "#compute precision over the test\n",
    "compute_precision(Ytest,y_pred_test)\n",
    "print()\n",
    "#compute recall over the test\n",
    "compute_recall(Ytest,y_pred_test)\n",
    "print()\n",
    "#compute F1 over the test\n",
    "compute_f1_score(Ytest,y_pred_test)"
   ]
  },
  {
   "cell_type": "code",
   "execution_count": 44,
   "metadata": {},
   "outputs": [
    {
     "data": {
      "text/plain": [
       "<matplotlib.axes._subplots.AxesSubplot at 0x271bcc76c88>"
      ]
     },
     "execution_count": 44,
     "metadata": {},
     "output_type": "execute_result"
    },
    {
     "data": {
      "image/png": "[encoded data removed]",
      "text/plain": [
       "<Figure size 432x288 with 2 Axes>"
      ]
     },
     "metadata": {
      "needs_background": "light"
     },
     "output_type": "display_data"
    },
    {
     "data": {
      "image/png": "[encoded data removed]",
      "text/plain": [
       "<Figure size 432x288 with 2 Axes>"
      ]
     },
     "metadata": {
      "needs_background": "light"
     },
     "output_type": "display_data"
    }
   ],
   "source": [
    "#compute Confusion Matrix\n",
    "np.set_printoptions(precision=2)\n",
    "plot_confusion_matrix(Ytest, y_pred_test, classes=[1,2],title=' Overall Validation Confusion matrix')\n",
    "#compute Confusion Matrix normalized        \n",
    "plot_confusion_matrix(Ytest, y_pred_test, classes=[1,2], normalize = True,title= ' Overall Validation Confusion matrix - normalized')"
   ]
  },
  {
   "cell_type": "markdown",
   "metadata": {},
   "source": [
    "## 3 Classes classification"
   ]
  },
  {
   "cell_type": "code",
   "execution_count": 45,
   "metadata": {},
   "outputs": [],
   "source": [
    "#define the corresponding class depending on the variable \"months until dialysis\"\n",
    "# 1st class if \"months until dialysis\" < 6,\n",
    "# 2nd class if 6 <= \"months until dialysis\" < 18\n",
    "# 3rd class otherwise\n",
    "def get_class_for_3_classes_classification(months_until_dialysis):\n",
    "    if months_until_dialysis < 6:\n",
    "        return 1\n",
    "    if (6 <= months_until_dialysis) and (months_until_dialysis < 18):\n",
    "        return 2\n",
    "    else:\n",
    "        return 3"
   ]
  },
  {
   "cell_type": "code",
   "execution_count": 46,
   "metadata": {},
   "outputs": [],
   "source": [
    "training['class'] = training.apply(lambda x : get_class_for_3_classes_classification( x[\"months until dialysis\"]),axis=1)"
   ]
  },
  {
   "cell_type": "code",
   "execution_count": 47,
   "metadata": {},
   "outputs": [],
   "source": [
    "#compute the corresponding classes also for the test set\n",
    "test['class'] = test.apply(lambda x : get_class_for_3_classes_classification( x[\"months until dialysis\"]),axis=1)"
   ]
  },
  {
   "cell_type": "code",
   "execution_count": 48,
   "metadata": {},
   "outputs": [
    {
     "name": "stdout",
     "output_type": "stream",
     "text": [
      "Train features shape: (3199, 27)\n"
     ]
    }
   ],
   "source": [
    "#train only on the 27 selected features\n",
    "Xtrain = training[SELECTED_27_FEATURES]\n",
    "print(\"Train features shape: \" + str(Xtrain.shape))\n",
    "Ytrain = training['class']"
   ]
  },
  {
   "cell_type": "code",
   "execution_count": 49,
   "metadata": {},
   "outputs": [
    {
     "data": {
      "text/plain": [
       "(1067, 27)"
      ]
     },
     "execution_count": 49,
     "metadata": {},
     "output_type": "execute_result"
    }
   ],
   "source": [
    "Xtest = test[SELECTED_27_FEATURES]\n",
    "Xtest.shape"
   ]
  },
  {
   "cell_type": "markdown",
   "metadata": {},
   "source": [
    "#### To train a new 3 class classifier run the cell below:"
   ]
  },
  {
   "cell_type": "code",
   "execution_count": 50,
   "metadata": {},
   "outputs": [
    {
     "data": {
      "text/plain": [
       "ExtraTreesClassifier(bootstrap=False, ccp_alpha=0.0, class_weight=None,\n",
       "                     criterion='gini', max_depth=None, max_features='auto',\n",
       "                     max_leaf_nodes=None, max_samples=None,\n",
       "                     min_impurity_decrease=0.0, min_impurity_split=None,\n",
       "                     min_samples_leaf=1, min_samples_split=2,\n",
       "                     min_weight_fraction_leaf=0.0, n_estimators=180,\n",
       "                     n_jobs=None, oob_score=False, random_state=None, verbose=0,\n",
       "                     warm_start=False)"
      ]
     },
     "execution_count": 50,
     "metadata": {},
     "output_type": "execute_result"
    }
   ],
   "source": [
    "#define an Etratrees classifier with a given number of estimators (i.e. 180). \n",
    "#The number of estimators is an hyperparameter and can be tuned with crossvalidation on the training set\n",
    "clf_3Classes = ExtraTreesClassifier(n_estimators=180)\n",
    "#train the classifier\n",
    "clf_3Classes.fit(Xtrain,Ytrain)"
   ]
  },
  {
   "cell_type": "markdown",
   "metadata": {},
   "source": [
    "#### To load a pre-trained model run the cell below instead:"
   ]
  },
  {
   "cell_type": "code",
   "execution_count": null,
   "metadata": {},
   "outputs": [],
   "source": [
    "#load already trained model\n",
    "clf_3Classes = load('clf_3Classes.joblib') "
   ]
  },
  {
   "cell_type": "code",
   "execution_count": 52,
   "metadata": {},
   "outputs": [],
   "source": [
    "# Make predictions on test\n",
    "y_pred_test = clf_3Classes.predict(Xtest)"
   ]
  },
  {
   "cell_type": "code",
   "execution_count": 53,
   "metadata": {
    "scrolled": false
   },
   "outputs": [
    {
     "name": "stdout",
     "output_type": "stream",
     "text": [
      "0.8828491096532334\n"
     ]
    }
   ],
   "source": [
    "#compute accuracy\n",
    "test_accuracy = accuracy_score(Ytest,y_pred_test)\n",
    "print(test_accuracy)"
   ]
  },
  {
   "cell_type": "code",
   "execution_count": 54,
   "metadata": {},
   "outputs": [
    {
     "name": "stdout",
     "output_type": "stream",
     "text": [
      " macro precision: 0.8832385595886469\n",
      " micro precision: 0.8828491096532334\n",
      " weighted precision: 0.882687510364784\n",
      "\n",
      " macro recall: 0.8786618442054825\n",
      " micro recall: 0.8828491096532334\n",
      " weighted recall: 0.8828491096532334\n",
      "\n",
      " macro f1_score: 0.8807024046011929\n",
      " micro f1_score: 0.8828491096532334\n",
      " weighted f1_score: 0.882508063808564\n"
     ]
    }
   ],
   "source": [
    "#compute precision\n",
    "compute_precision(Ytest,y_pred_test)\n",
    "print()\n",
    "#compute recall\n",
    "compute_recall(Ytest,y_pred_test)\n",
    "print()\n",
    "#compute F1\n",
    "compute_f1_score(Ytest,y_pred_test)"
   ]
  },
  {
   "cell_type": "code",
   "execution_count": 55,
   "metadata": {
    "scrolled": true
   },
   "outputs": [
    {
     "data": {
      "text/plain": [
       "<matplotlib.axes._subplots.AxesSubplot at 0x271bb96d688>"
      ]
     },
     "execution_count": 55,
     "metadata": {},
     "output_type": "execute_result"
    },
    {
     "data": {
      "image/png": "[encoded data removed]",
      "text/plain": [
       "<Figure size 432x288 with 2 Axes>"
      ]
     },
     "metadata": {
      "needs_background": "light"
     },
     "output_type": "display_data"
    },
    {
     "data": {
      "image/png": "[encoded data removed]",
      "text/plain": [
       "<Figure size 432x288 with 2 Axes>"
      ]
     },
     "metadata": {
      "needs_background": "light"
     },
     "output_type": "display_data"
    }
   ],
   "source": [
    "# plot confusion matrix\n",
    "np.set_printoptions(precision=2)\n",
    "plot_confusion_matrix(Ytest, y_pred_test, classes=[1,2,3],title=' Overall Validation Confusion matrix')\n",
    "# plot confusion normalized        \n",
    "plot_confusion_matrix(Ytest, y_pred_test, classes=[1,2,3], normalize = True,title= ' Overall Validation Confusion matrix - normalized')"
   ]
  },
  {
   "cell_type": "markdown",
   "metadata": {},
   "source": [
    "#### Comparing the performances using a Decision Tree"
   ]
  },
  {
   "cell_type": "code",
   "execution_count": 56,
   "metadata": {},
   "outputs": [
    {
     "data": {
      "text/plain": [
       "DecisionTreeClassifier(ccp_alpha=0.0, class_weight=None, criterion='gini',\n",
       "                       max_depth=15, max_features=None, max_leaf_nodes=None,\n",
       "                       min_impurity_decrease=0.0, min_impurity_split=None,\n",
       "                       min_samples_leaf=1, min_samples_split=2,\n",
       "                       min_weight_fraction_leaf=0.0, presort='deprecated',\n",
       "                       random_state=None, splitter='best')"
      ]
     },
     "execution_count": 56,
     "metadata": {},
     "output_type": "execute_result"
    }
   ],
   "source": [
    "clf_3Classes = tree.DecisionTreeClassifier(max_depth=15)\n",
    "clf_3Classes.fit(Xtrain,Ytrain)"
   ]
  },
  {
   "cell_type": "code",
   "execution_count": 57,
   "metadata": {},
   "outputs": [],
   "source": [
    "# Make predictions on test\n",
    "y_pred_test = clf_3Classes.predict(Xtest)"
   ]
  },
  {
   "cell_type": "code",
   "execution_count": 58,
   "metadata": {},
   "outputs": [
    {
     "name": "stdout",
     "output_type": "stream",
     "text": [
      "0.7385192127460168\n"
     ]
    }
   ],
   "source": [
    "#compute accuracy\n",
    "test_accuracy = accuracy_score(Ytest,y_pred_test)\n",
    "print(test_accuracy)"
   ]
  },
  {
   "cell_type": "code",
   "execution_count": 59,
   "metadata": {
    "scrolled": false
   },
   "outputs": [
    {
     "name": "stdout",
     "output_type": "stream",
     "text": [
      " macro precision: 0.7394005097106682\n",
      " micro precision: 0.7385192127460168\n",
      " weighted precision: 0.7406507875525968\n",
      "\n",
      " macro recall: 0.7368649679994812\n",
      " micro recall: 0.7385192127460168\n",
      " weighted recall: 0.7385192127460168\n",
      "\n",
      " macro f1_score: 0.7377734879282857\n",
      " micro f1_score: 0.7385192127460168\n",
      " weighted f1_score: 0.7392534341054191\n"
     ]
    }
   ],
   "source": [
    "#compute precision\n",
    "compute_precision(Ytest,y_pred_test)\n",
    "print()\n",
    "#compute recall\n",
    "compute_recall(Ytest,y_pred_test)\n",
    "print()\n",
    "#compute F1\n",
    "compute_f1_score(Ytest,y_pred_test)"
   ]
  },
  {
   "cell_type": "code",
   "execution_count": 60,
   "metadata": {},
   "outputs": [
    {
     "data": {
      "text/plain": [
       "<matplotlib.axes._subplots.AxesSubplot at 0x271ba7fa9c8>"
      ]
     },
     "execution_count": 60,
     "metadata": {},
     "output_type": "execute_result"
    },
    {
     "data": {
      "image/png": "[encoded data removed]",
      "text/plain": [
       "<Figure size 432x288 with 2 Axes>"
      ]
     },
     "metadata": {
      "needs_background": "light"
     },
     "output_type": "display_data"
    },
    {
     "data": {
      "image/png": "[encoded data removed]",
      "text/plain": [
       "<Figure size 432x288 with 2 Axes>"
      ]
     },
     "metadata": {
      "needs_background": "light"
     },
     "output_type": "display_data"
    }
   ],
   "source": [
    "# plot confusion matrix\n",
    "np.set_printoptions(precision=2)\n",
    "plot_confusion_matrix(Ytest, y_pred_test, classes=[1,2,3],title=' Overall Validation Confusion matrix')\n",
    "# plot confusion normalized        \n",
    "plot_confusion_matrix(Ytest, y_pred_test, classes=[1,2,3], normalize = True,title= ' Overall Validation Confusion matrix - normalized')"
   ]
  },
  {
   "cell_type": "markdown",
   "metadata": {},
   "source": [
    "#### Comparing the performances using Random Forest"
   ]
  },
  {
   "cell_type": "code",
   "execution_count": 61,
   "metadata": {},
   "outputs": [
    {
     "name": "stdout",
     "output_type": "stream",
     "text": [
      "test_accuracy: 0.8556701030927835\n"
     ]
    }
   ],
   "source": [
    "clf_3Classes = RandomForestClassifier(n_estimators=250)\n",
    "clf_3Classes.fit(Xtrain,Ytrain)\n",
    "# Make predictions for the test using the trained classifier\n",
    "y_pred_test = clf_3Classes.predict(Xtest)\n",
    "#compute accuracy over the test\n",
    "test_accuracy = accuracy_score(Ytest,y_pred_test)\n",
    "print(\"test_accuracy: \" + str(test_accuracy))"
   ]
  },
  {
   "cell_type": "code",
   "execution_count": 62,
   "metadata": {},
   "outputs": [
    {
     "name": "stdout",
     "output_type": "stream",
     "text": [
      " macro precision: 0.8578268895972866\n",
      " micro precision: 0.8556701030927835\n",
      " weighted precision: 0.8562108669527411\n",
      "\n",
      " macro recall: 0.849420038839028\n",
      " micro recall: 0.8556701030927835\n",
      " weighted recall: 0.8556701030927835\n",
      "\n",
      " macro f1_score: 0.8529572400468641\n",
      " micro f1_score: 0.8556701030927835\n",
      " weighted f1_score: 0.8552914422383829\n"
     ]
    }
   ],
   "source": [
    "#compute precision\n",
    "compute_precision(Ytest,y_pred_test)\n",
    "print()\n",
    "#compute recall\n",
    "compute_recall(Ytest,y_pred_test)\n",
    "print()\n",
    "#compute F1\n",
    "compute_f1_score(Ytest,y_pred_test)"
   ]
  },
  {
   "cell_type": "code",
   "execution_count": 63,
   "metadata": {},
   "outputs": [
    {
     "data": {
      "text/plain": [
       "<matplotlib.axes._subplots.AxesSubplot at 0x271bedf9948>"
      ]
     },
     "execution_count": 63,
     "metadata": {},
     "output_type": "execute_result"
    },
    {
     "data": {
      "image/png": "[encoded data removed]",
      "text/plain": [
       "<Figure size 432x288 with 2 Axes>"
      ]
     },
     "metadata": {
      "needs_background": "light"
     },
     "output_type": "display_data"
    },
    {
     "data": {
      "image/png": "[encoded data removed]",
      "text/plain": [
       "<Figure size 432x288 with 2 Axes>"
      ]
     },
     "metadata": {
      "needs_background": "light"
     },
     "output_type": "display_data"
    }
   ],
   "source": [
    "# plot confusion matrix\n",
    "np.set_printoptions(precision=2)\n",
    "plot_confusion_matrix(Ytest, y_pred_test, classes=[1,2,3],title=' Overall Validation Confusion matrix')\n",
    "# plot confusion normalized        \n",
    "plot_confusion_matrix(Ytest, y_pred_test, classes=[1,2,3], normalize = True,title= ' Overall Validation Confusion matrix - normalized')"
   ]
  },
  {
   "cell_type": "markdown",
   "metadata": {},
   "source": [
    "## 4 Classes classification"
   ]
  },
  {
   "cell_type": "code",
   "execution_count": 64,
   "metadata": {},
   "outputs": [],
   "source": [
    "#define the corresponding class depending on the variable \"months until dialysis\"\n",
    "# 1st class if \"months until dialysis\" < 6,\n",
    "# 2nd class if 6 <= \"months until dialysis\" < 14\n",
    "# 3rd class if 14 <= \"months until dialysis\" < 24\n",
    "# 4th class otherwise\n",
    "def get_class_for_4_classes_classification(months_until_dialysis):\n",
    "    if months_until_dialysis < 6:\n",
    "        return 1\n",
    "    if (6 <= months_until_dialysis) and (months_until_dialysis < 14):\n",
    "        return 2\n",
    "    if (14 <= months_until_dialysis) and (months_until_dialysis < 24):\n",
    "        return 3\n",
    "    else:\n",
    "        return 4"
   ]
  },
  {
   "cell_type": "code",
   "execution_count": 65,
   "metadata": {},
   "outputs": [],
   "source": [
    "training['class'] = training.apply(lambda x : get_class_for_4_classes_classification( x[\"months until dialysis\"]),axis=1)"
   ]
  },
  {
   "cell_type": "code",
   "execution_count": 66,
   "metadata": {},
   "outputs": [],
   "source": [
    "#compute the corresponding classes also for the test set\n",
    "test['class'] = test.apply(lambda x : get_class_for_4_classes_classification( x[\"months until dialysis\"]),axis=1)"
   ]
  },
  {
   "cell_type": "code",
   "execution_count": 67,
   "metadata": {},
   "outputs": [
    {
     "name": "stdout",
     "output_type": "stream",
     "text": [
      "Train features shape: (3199, 27)\n"
     ]
    }
   ],
   "source": [
    "#train only on the 27 selected features\n",
    "Xtrain = training[SELECTED_27_FEATURES]\n",
    "print(\"Train features shape: \" + str(Xtrain.shape))\n",
    "Ytrain = training['class']"
   ]
  },
  {
   "cell_type": "code",
   "execution_count": 68,
   "metadata": {},
   "outputs": [
    {
     "data": {
      "text/plain": [
       "(1067, 27)"
      ]
     },
     "execution_count": 68,
     "metadata": {},
     "output_type": "execute_result"
    }
   ],
   "source": [
    "Xtest = test[SELECTED_27_FEATURES]\n",
    "Xtest.shape"
   ]
  },
  {
   "cell_type": "markdown",
   "metadata": {},
   "source": [
    "#### To train a new 4 class classifier run the cell below:"
   ]
  },
  {
   "cell_type": "code",
   "execution_count": 70,
   "metadata": {},
   "outputs": [
    {
     "data": {
      "text/plain": [
       "ExtraTreesClassifier(bootstrap=False, ccp_alpha=0.0, class_weight=None,\n",
       "                     criterion='gini', max_depth=None, max_features='auto',\n",
       "                     max_leaf_nodes=None, max_samples=None,\n",
       "                     min_impurity_decrease=0.0, min_impurity_split=None,\n",
       "                     min_samples_leaf=1, min_samples_split=2,\n",
       "                     min_weight_fraction_leaf=0.0, n_estimators=180,\n",
       "                     n_jobs=None, oob_score=False, random_state=None, verbose=0,\n",
       "                     warm_start=False)"
      ]
     },
     "execution_count": 70,
     "metadata": {},
     "output_type": "execute_result"
    }
   ],
   "source": [
    "#define an Etratrees classifier with a given number of estimators (i.e. 180). \n",
    "#The number of estimators is an hyperparameter and can be tuned with crossvalidation on the training set\n",
    "clf_4Classes = ExtraTreesClassifier(n_estimators=180)\n",
    "#train the classifier\n",
    "clf_4Classes.fit(Xtrain,Ytrain)"
   ]
  },
  {
   "cell_type": "markdown",
   "metadata": {},
   "source": [
    "#### To load a pre-trained model run the cell below instead:"
   ]
  },
  {
   "cell_type": "code",
   "execution_count": null,
   "metadata": {},
   "outputs": [],
   "source": [
    "#load already trained model\n",
    "clf_4Classes = load('clf_4Classes.joblib') "
   ]
  },
  {
   "cell_type": "code",
   "execution_count": 71,
   "metadata": {},
   "outputs": [],
   "source": [
    "# Make predictions on test\n",
    "y_pred_test = clf_4Classes.predict(Xtest)"
   ]
  },
  {
   "cell_type": "code",
   "execution_count": 72,
   "metadata": {},
   "outputs": [
    {
     "name": "stdout",
     "output_type": "stream",
     "text": [
      "0.8547328959700093\n"
     ]
    }
   ],
   "source": [
    "#compute accuracy\n",
    "test_accuracy = accuracy_score(Ytest,y_pred_test)\n",
    "print(test_accuracy)"
   ]
  },
  {
   "cell_type": "code",
   "execution_count": 73,
   "metadata": {},
   "outputs": [
    {
     "name": "stdout",
     "output_type": "stream",
     "text": [
      " macro precision: 0.8515751583787365\n",
      " micro precision: 0.8547328959700093\n",
      " weighted precision: 0.854669174190773\n",
      "\n",
      " macro recall: 0.8285989606763342\n",
      " micro recall: 0.8547328959700093\n",
      " weighted recall: 0.8547328959700093\n",
      "\n",
      " macro f1_score: 0.8388182831305562\n",
      " micro f1_score: 0.8547328959700093\n",
      " weighted f1_score: 0.8533329700449285\n"
     ]
    }
   ],
   "source": [
    "#compute precision \n",
    "compute_precision(Ytest,y_pred_test)\n",
    "print()\n",
    "#compute recall\n",
    "compute_recall(Ytest,y_pred_test)\n",
    "print()\n",
    "#compute F1\n",
    "compute_f1_score(Ytest,y_pred_test)"
   ]
  },
  {
   "cell_type": "code",
   "execution_count": 74,
   "metadata": {},
   "outputs": [
    {
     "data": {
      "text/plain": [
       "<matplotlib.axes._subplots.AxesSubplot at 0x271c2ed3248>"
      ]
     },
     "execution_count": 74,
     "metadata": {},
     "output_type": "execute_result"
    },
    {
     "data": {
      "image/png": "[encoded data removed]",
      "text/plain": [
       "<Figure size 432x288 with 2 Axes>"
      ]
     },
     "metadata": {
      "needs_background": "light"
     },
     "output_type": "display_data"
    },
    {
     "data": {
      "image/png": "[encoded data removed]",
      "text/plain": [
       "<Figure size 432x288 with 2 Axes>"
      ]
     },
     "metadata": {
      "needs_background": "light"
     },
     "output_type": "display_data"
    }
   ],
   "source": [
    "#plot confusion matrix\n",
    "np.set_printoptions(precision=2)\n",
    "plot_confusion_matrix(Ytest, y_pred_test, classes=[1,2,3],title=' Overall Validation Confusion matrix')\n",
    "#plot confusion matrix normalized        \n",
    "plot_confusion_matrix(Ytest, y_pred_test, classes=[1,2,3], normalize = True,title= ' Overall Validation Confusion matrix - normalized')"
   ]
  },
  {
   "cell_type": "markdown",
   "metadata": {},
   "source": [
    "#### Comparing the performances using a Decision Tree"
   ]
  },
  {
   "cell_type": "code",
   "execution_count": 75,
   "metadata": {},
   "outputs": [
    {
     "data": {
      "text/plain": [
       "DecisionTreeClassifier(ccp_alpha=0.0, class_weight=None, criterion='gini',\n",
       "                       max_depth=15, max_features=None, max_leaf_nodes=None,\n",
       "                       min_impurity_decrease=0.0, min_impurity_split=None,\n",
       "                       min_samples_leaf=1, min_samples_split=2,\n",
       "                       min_weight_fraction_leaf=0.0, presort='deprecated',\n",
       "                       random_state=None, splitter='best')"
      ]
     },
     "execution_count": 75,
     "metadata": {},
     "output_type": "execute_result"
    }
   ],
   "source": [
    "clf_4Classes = tree.DecisionTreeClassifier(max_depth=15)\n",
    "clf_4Classes.fit(Xtrain,Ytrain)"
   ]
  },
  {
   "cell_type": "code",
   "execution_count": 76,
   "metadata": {},
   "outputs": [],
   "source": [
    "# Make predictions on test\n",
    "y_pred_test = clf_4Classes.predict(Xtest)"
   ]
  },
  {
   "cell_type": "code",
   "execution_count": 77,
   "metadata": {},
   "outputs": [
    {
     "name": "stdout",
     "output_type": "stream",
     "text": [
      "0.7169634489222118\n"
     ]
    }
   ],
   "source": [
    "#compute accuracy\n",
    "test_accuracy = accuracy_score(Ytest,y_pred_test)\n",
    "print(test_accuracy)"
   ]
  },
  {
   "cell_type": "code",
   "execution_count": 78,
   "metadata": {},
   "outputs": [
    {
     "name": "stdout",
     "output_type": "stream",
     "text": [
      " macro precision: 0.7022321480500968\n",
      " micro precision: 0.7169634489222118\n",
      " weighted precision: 0.7149581108329852\n",
      "\n",
      " macro recall: 0.6884181822786217\n",
      " micro recall: 0.7169634489222118\n",
      " weighted recall: 0.7169634489222118\n",
      "\n",
      " macro f1_score: 0.6945189272359727\n",
      " micro f1_score: 0.7169634489222119\n",
      " weighted f1_score: 0.715021179821958\n"
     ]
    }
   ],
   "source": [
    "#compute precision \n",
    "compute_precision(Ytest,y_pred_test)\n",
    "print()\n",
    "#compute recall\n",
    "compute_recall(Ytest,y_pred_test)\n",
    "print()\n",
    "#compute F1\n",
    "compute_f1_score(Ytest,y_pred_test)"
   ]
  },
  {
   "cell_type": "code",
   "execution_count": 79,
   "metadata": {},
   "outputs": [
    {
     "data": {
      "text/plain": [
       "<matplotlib.axes._subplots.AxesSubplot at 0x271c3042f48>"
      ]
     },
     "execution_count": 79,
     "metadata": {},
     "output_type": "execute_result"
    },
    {
     "data": {
      "image/png": "[encoded data removed]",
      "text/plain": [
       "<Figure size 432x288 with 2 Axes>"
      ]
     },
     "metadata": {
      "needs_background": "light"
     },
     "output_type": "display_data"
    },
    {
     "data": {
      "image/png": "[encoded data removed]",
      "text/plain": [
       "<Figure size 432x288 with 2 Axes>"
      ]
     },
     "metadata": {
      "needs_background": "light"
     },
     "output_type": "display_data"
    }
   ],
   "source": [
    "#plot confusion matrix\n",
    "np.set_printoptions(precision=2)\n",
    "plot_confusion_matrix(Ytest, y_pred_test, classes=[1,2,3],title=' Overall Validation Confusion matrix')\n",
    "#plot confusion matrix normalized        \n",
    "plot_confusion_matrix(Ytest, y_pred_test, classes=[1,2,3], normalize = True,title= ' Overall Validation Confusion matrix - normalized')"
   ]
  },
  {
   "cell_type": "markdown",
   "metadata": {},
   "source": [
    "#### Comparing the performances using Random Forest"
   ]
  },
  {
   "cell_type": "code",
   "execution_count": 80,
   "metadata": {},
   "outputs": [
    {
     "name": "stdout",
     "output_type": "stream",
     "text": [
      "test_accuracy: 0.837863167760075\n"
     ]
    }
   ],
   "source": [
    "clf_4Classes = RandomForestClassifier(n_estimators=250)\n",
    "clf_4Classes.fit(Xtrain,Ytrain)\n",
    "# Make predictions for the test using the trained classifier\n",
    "y_pred_test = clf_4Classes.predict(Xtest)\n",
    "#compute accuracy over the test\n",
    "test_accuracy = accuracy_score(Ytest,y_pred_test)\n",
    "print(\"test_accuracy: \" + str(test_accuracy))"
   ]
  },
  {
   "cell_type": "code",
   "execution_count": 81,
   "metadata": {},
   "outputs": [
    {
     "name": "stdout",
     "output_type": "stream",
     "text": [
      " macro precision: 0.8459815754079499\n",
      " micro precision: 0.837863167760075\n",
      " weighted precision: 0.8398138324639489\n",
      "\n",
      " macro recall: 0.8059756509050527\n",
      " micro recall: 0.837863167760075\n",
      " weighted recall: 0.837863167760075\n",
      "\n",
      " macro f1_score: 0.8224560565786813\n",
      " micro f1_score: 0.837863167760075\n",
      " weighted f1_score: 0.835450455627512\n"
     ]
    }
   ],
   "source": [
    "#compute precision \n",
    "compute_precision(Ytest,y_pred_test)\n",
    "print()\n",
    "#compute recall\n",
    "compute_recall(Ytest,y_pred_test)\n",
    "print()\n",
    "#compute F1\n",
    "compute_f1_score(Ytest,y_pred_test)"
   ]
  },
  {
   "cell_type": "code",
   "execution_count": 82,
   "metadata": {},
   "outputs": [
    {
     "data": {
      "text/plain": [
       "<matplotlib.axes._subplots.AxesSubplot at 0x271c41c9d88>"
      ]
     },
     "execution_count": 82,
     "metadata": {},
     "output_type": "execute_result"
    },
    {
     "data": {
      "image/png": "[encoded data removed]",
      "text/plain": [
       "<Figure size 432x288 with 2 Axes>"
      ]
     },
     "metadata": {
      "needs_background": "light"
     },
     "output_type": "display_data"
    },
    {
     "data": {
      "image/png": "[encoded data removed]",
      "text/plain": [
       "<Figure size 432x288 with 2 Axes>"
      ]
     },
     "metadata": {
      "needs_background": "light"
     },
     "output_type": "display_data"
    }
   ],
   "source": [
    "#plot confusion matrix\n",
    "np.set_printoptions(precision=2)\n",
    "plot_confusion_matrix(Ytest, y_pred_test, classes=[1,2,3],title=' Overall Validation Confusion matrix')\n",
    "#plot confusion matrix normalized        \n",
    "plot_confusion_matrix(Ytest, y_pred_test, classes=[1,2,3], normalize = True,title= ' Overall Validation Confusion matrix - normalized')"
   ]
  }
 ],
 "metadata": {
  "kernelspec": {
   "display_name": "Python 3",
   "language": "python",
   "name": "python3"
  },
  "language_info": {
   "codemirror_mode": {
    "name": "ipython",
    "version": 3
   },
   "file_extension": ".py",
   "mimetype": "text/x-python",
   "name": "python",
   "nbconvert_exporter": "python",
   "pygments_lexer": "ipython3",
   "version": "3.7.6"
  }
 },
 "nbformat": 4,
 "nbformat_minor": 4
}
